{
 "cells": [
  {
   "cell_type": "markdown",
   "id": "51531d4c",
   "metadata": {},
   "source": [
    "Kullanıcıdan Santigrat ya da Fahrenheit olarak sıcaklık değerini alacak ve diğer sıcaklık birimine çevirecek bir kod yazın. Dönüşüm için C = (5/9) * (F - 32) formülünü kullanabilirsiniz."
   ]
  },
  {
   "cell_type": "code",
   "execution_count": 1,
   "id": "346ad908",
   "metadata": {},
   "outputs": [
    {
     "name": "stdout",
     "output_type": "stream",
     "text": [
      "Sıcaklık değerini sayısal olarak giriniz:35\n",
      "Lüften C veya F olarak türünü belirtin:C\n",
      "yeni sıcaklık değeri 95.0 F\n"
     ]
    }
   ],
   "source": [
    "sicaklik = int(input(\"Sıcaklık değerini sayısal olarak giriniz:\"))\n",
    "tur = input (\"Lüften C veya F olarak türünü belirtin:\")\n",
    "if \"C\" in tur:\n",
    "  f = (9*sicaklik)/5+32\n",
    "  print(\"yeni sıcaklık değeri\",f,\"F\")\n",
    "elif \"F\" in tur:\n",
    "  c=(5/9) * (sicaklik - 32)\n",
    "  print(\"yeni sıcaklık değeri:\",c,\"C\")\n",
    "else:\n",
    "  print(\"lütfen geçerli bir sıcaklık birimi giriniz\")  \n"
   ]
  },
  {
   "cell_type": "markdown",
   "id": "06515eb2",
   "metadata": {},
   "source": [
    "1'den 50'ye kadar olan Fibonacci sayılarından oluşan bir liste oluşturun. İlk iki Fibonacci sayısı 1'dir. Sonraki sayılar, önceki iki sayının toplamıdır."
   ]
  },
  {
   "cell_type": "code",
   "execution_count": 2,
   "id": "9d08f2e0",
   "metadata": {},
   "outputs": [
    {
     "name": "stdout",
     "output_type": "stream",
     "text": [
      "lütfen uzunluk giriniz:9\n",
      "1, 1, 2, 3, 5, 8, 13, 21, 34, "
     ]
    }
   ],
   "source": [
    "length = int(input(\"lütfen uzunluk giriniz:\"))    #50 ye kadar olan sayılar için 9 giriniz\n",
    "x = 1\n",
    "y = 1\n",
    "iteration = 0\n",
    "\n",
    "if length <= 0:\n",
    "   print(\"Please provide a number greater than zero\")\n",
    "elif length == 1:\n",
    "   \n",
    "   print(x)\n",
    "else:\n",
    "   \n",
    "   while iteration < length:\n",
    "       print(x, end=', ')\n",
    "       z = x + y\n",
    "       x = y\n",
    "       y = z\n",
    "       iteration += 1"
   ]
  },
  {
   "cell_type": "markdown",
   "id": "21cfbc03",
   "metadata": {},
   "source": [
    "Kullanıcıdan 3 kişinin adını ve yaşını alın ve en yaşlı olanın adını ekrana yazdırın."
   ]
  },
  {
   "cell_type": "code",
   "execution_count": 3,
   "id": "8b063bfb",
   "metadata": {},
   "outputs": [
    {
     "name": "stdout",
     "output_type": "stream",
     "text": [
      "Lütfen 1.kişinin adını soyadını giriniz:ŞEYMA\n",
      "yaş giriniz:24\n",
      "Lütfen 2.kişinin adını soyadını giriniz:AHMET\n",
      "yaş giriniz:12\n",
      "Lütfen 3.kişinin adını soyadını giriniz:HATCİE\n",
      "yaş giriniz:20\n",
      "yaşı en büyük olan kişi: ŞEYMA\n"
     ]
    }
   ],
   "source": [
    "kullanıcı1_ad=input(\"Lütfen 1.kişinin adını soyadını giriniz:\")\n",
    "kullanıcı1_yas=int(input(\"yaş giriniz:\"))\n",
    "\n",
    "kullanıcı2_ad= input(\"Lütfen 2.kişinin adını soyadını giriniz:\")\n",
    "kullanıcı2_yas=int(input(\"yaş giriniz:\"))\n",
    "\n",
    "kullanıcı3_ad= input(\"Lütfen 3.kişinin adını soyadını giriniz:\")\n",
    "kullanıcı3_yas=int(input(\"yaş giriniz:\"))\n",
    "\n",
    "if kullanıcı1_yas > kullanıcı2_yas and kullanıcı1_yas  > kullanıcı3_yas:\n",
    "  print(\"yaşı en büyük olan kişi:\",kullanıcı1_ad)\n",
    "elif kullanıcı2_yas > kullanıcı1_yas  and kullanıcı2_yas > kullanıcı3_yas:\n",
    "  print(\"yaşı en büyük olan kişi:\",kullanıcı2_ad)\n",
    "elif kullanıcı3_yas>kullanıcı1_yas and kullanıcı3_yas> kullanıcı2_yas:\n",
    "  print(\"yaşı en büyük olan kişi:\",kullanıcı3_ad)  \n",
    "else:\n",
    "  print(\"geçerli yaş girmediniz.\")  "
   ]
  },
  {
   "cell_type": "markdown",
   "id": "24f19e37",
   "metadata": {},
   "source": [
    "Kullanıcının gireceği harfin ünlü harf mi yoksa ünsüz harf mi olduğunu bildiren bir kod yazın. Eğer kullanıcı birden fazla harf girerse, girdiği bir uyarı verecek ve ilk harf için değerlendirme yapmasını, harf dışında bir karakter (rakam vb.) girerse de uyarı vermesini sağlayın."
   ]
  },
  {
   "cell_type": "code",
   "execution_count": 4,
   "id": "45deaa23",
   "metadata": {},
   "outputs": [
    {
     "name": "stdout",
     "output_type": "stream",
     "text": [
      "bir harf giriniz!:A\n",
      "girdiğiniz harf sesli bir harf\n"
     ]
    }
   ],
   "source": [
    "sesli= \"aeıioöuüAEIİOÖUÜ\"\n",
    "sessiz=\"bcçdfgğhjklmnprsştvyzxwqBCÇDFGĞHJKLMNPRSŞTVYZXWQ\"\n",
    "\n",
    "girdi=input(\"bir harf giriniz!:\")\n",
    "\n",
    "if len(girdi)>1:\n",
    "  print(\"Birden fazla karakter girişi yaptınız. Bu yüzden sadece ilk karakteri göz önüne alacağız.\")\n",
    "  if girdi[0] in sesli:\n",
    "    print(\"girdiğiniz harf bir sesli harf\")\n",
    "  elif girdi[0] in sessiz:\n",
    "    print(\"Girdiğiniz harf sesiz bir harf\")\n",
    "  else:\n",
    "    print(\"Girdiğiniz ilk karakter bir harf değil\")    \n",
    "elif len(girdi)==1:\n",
    "  if girdi in sesli:\n",
    "    print(\"girdiğiniz harf sesli bir harf\")    \n",
    "  elif girdi in sessiz:\n",
    "    print(\"girdiğiniz harf sessiz bir harf\")\n",
    "  else:\n",
    "    print(\"Girdiğiniz şey bir harf değil\")    \n",
    "\n",
    "else:\n",
    "  print(\"Bir girdiniz olmadı!\")"
   ]
  },
  {
   "cell_type": "code",
   "execution_count": null,
   "id": "5211c8a1",
   "metadata": {},
   "outputs": [],
   "source": []
  }
 ],
 "metadata": {
  "kernelspec": {
   "display_name": "Python 3",
   "language": "python",
   "name": "python3"
  },
  "language_info": {
   "codemirror_mode": {
    "name": "ipython",
    "version": 3
   },
   "file_extension": ".py",
   "mimetype": "text/x-python",
   "name": "python",
   "nbconvert_exporter": "python",
   "pygments_lexer": "ipython3",
   "version": "3.8.8"
  }
 },
 "nbformat": 4,
 "nbformat_minor": 5
}
